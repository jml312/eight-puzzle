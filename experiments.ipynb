{
 "cells": [
  {
   "cell_type": "code",
   "execution_count": 13,
   "metadata": {},
   "outputs": [],
   "source": [
    "from puzzle_solver import PuzzleSolver\n",
    "from state import State, HEURISTIC\n",
    "from matplotlib import pyplot as plt\n",
    "from collections import defaultdict"
   ]
  },
  {
   "cell_type": "code",
   "execution_count": 14,
   "metadata": {},
   "outputs": [],
   "source": [
    "goal = [[1, 2, 3], [4, 5, 6], [7, 8, State.BLANK_VALUE]]\n",
    "puzzle_solver = PuzzleSolver(goal=goal,no_print=True)"
   ]
  },
  {
   "cell_type": "code",
   "execution_count": 15,
   "metadata": {},
   "outputs": [],
   "source": [
    "solvable_solutions = {\n",
    "  method: defaultdict(list) for method in [\"h1\", \"h2\", \"beam\"]\n",
    "}\n",
    "h1_generated, h2_generated = [], []\n",
    "h1_moves, h2_moves, beam_moves = [], [], []\n",
    "\n",
    "moves = range(5, 501, 5)\n",
    "num_max_nodes = 5\n",
    "max_nodes = [(10 ** (i + 2)) for i in range(num_max_nodes)]\n",
    "\n",
    "for n in moves:\n",
    "  puzzle_solver.max_nodes = None\n",
    "  puzzle_solver.randomize_state(n)\n",
    "  \n",
    "  h1_res = puzzle_solver.solve_a_star(heuristic=HEURISTIC.H1)\n",
    "  h1_generated.append(h1_res[\"generated\"])\n",
    "  h1_moves.append(h1_res[\"moves\"])\n",
    "  \n",
    "  h2_res = puzzle_solver.solve_a_star(heuristic=HEURISTIC.H2)\n",
    "  h2_generated.append(h2_res[\"generated\"])\n",
    "  h2_moves.append(h2_res[\"moves\"])\n",
    "\n",
    "  beam_res = puzzle_solver.solve_beam(5)\n",
    "  beam_moves.append(beam_res[\"moves\"])\n",
    "\n",
    "  \n",
    "  for mn in max_nodes:\n",
    "    puzzle_solver.max_nodes = mn\n",
    "\n",
    "    h1_res = puzzle_solver.solve_a_star(heuristic=HEURISTIC.H1)\n",
    "    solvable_solutions[\"h1\"][mn].append(h1_res[\"success\"])\n",
    "\n",
    "    h2_res = puzzle_solver.solve_a_star(heuristic=HEURISTIC.H2)\n",
    "    solvable_solutions[\"h2\"][mn].append(h2_res[\"success\"])\n",
    "\n",
    "    beam_res = puzzle_solver.solve_beam(5)\n",
    "    solvable_solutions[\"beam\"][mn].append(beam_res[\"success\"])\n"
   ]
  },
  {
   "cell_type": "code",
   "execution_count": null,
   "metadata": {},
   "outputs": [],
   "source": [
    "# How does fraction of solvable puzzles from random initial states vary with the maxNodes limit?\n",
    "    \n",
    "for key in solvable_solutions.keys():\n",
    "  for mn in solvable_solutions[key].keys():\n",
    "    solvable_solutions[key][mn] = round(\n",
    "        solvable_solutions[key][mn].count(True) / len(solvable_solutions[key][mn]), 2)\n",
    "\n",
    "x = range(1, 6)\n",
    "width = 0.2\n",
    "\n",
    "plt.figure()\n",
    "plt.bar([i - width for i in x],\n",
    "        solvable_solutions[\"h1\"].values(), width, color=\"red\")\n",
    "plt.bar(x, solvable_solutions[\"h2\"].values(), width, color=\"blue\")\n",
    "plt.bar([i + width for i in x],\n",
    "        solvable_solutions[\"beam\"].values(), width, color=\"green\")\n",
    "plt.xticks(x, max_nodes)\n",
    "plt.xlabel(\"Max Nodes\")\n",
    "plt.ylabel(\"Fraction of solvable puzzles\")\n",
    "plt.legend((\"A* (H1)\", \"A* (H2)\", \"Beam (k=5)\"))\n",
    "plt.title(\"Fraction of solvable puzzles from random initial states vs. maxNodes limit\")\n",
    "\n",
    "print(solvable_solutions)\n"
   ]
  },
  {
   "cell_type": "code",
   "execution_count": null,
   "metadata": {},
   "outputs": [],
   "source": [
    "# For A* search, which heuristic is better, i.e., generates lower number of nodes?\n",
    "\n",
    "plt.figure()\n",
    "plt.bar(moves, h1_generated, color='r', label=\"A* (H1)\")\n",
    "plt.bar(moves, h2_generated, color='b', label=\"A* (H2)\")\n",
    "plt.legend()\n",
    "plt.xlabel('Number of random moves')\n",
    "plt.ylabel('Generated nodes')\n",
    "plt.title('Generated nodes per number of random moves (A* heuristic test)')\n",
    "\n",
    "print(\"Average number of generated nodes for heuristic 1: \",\n",
    "      round(sum(h1_generated) / len(h1_generated)))\n",
    "print(\"Average number of generated nodes for heuristic 2: \",\n",
    "      round(sum(h2_generated) / len(h2_generated)))\n"
   ]
  },
  {
   "cell_type": "code",
   "execution_count": null,
   "metadata": {},
   "outputs": [],
   "source": [
    "# How does the solution length (number of moves needed to reach the goal state) vary across the three search methods?\n",
    "\n",
    "plt.figure()\n",
    "plt.bar(moves, h1_moves, color='r')\n",
    "plt.bar(moves, h2_moves, color='b')\n",
    "plt.bar(moves, beam_moves, color='g', bottom=h2_moves)\n",
    "plt.bar(moves, h2_moves, color='purple')\n",
    "plt.legend((\"A* (H1)\", \"A* (H2)\", \"Beam (k=5)\"))\n",
    "plt.xlabel(\"Number of random moves\")\n",
    "plt.ylabel(\"Solution length\")\n",
    "plt.title(\"Solution length vs. number of random moves\")\n",
    "\n",
    "print(\"Average number of moves for heuristic 1: \",\n",
    "      round(sum(h1_moves) / len(h1_moves)))\n",
    "print(\"Average number of moves for heuristic 2: \",\n",
    "      round(sum(h2_moves) / len(h2_moves)))\n",
    "print(\"Average number of moves for beam search: \",\n",
    "      round(sum(beam_moves) / len(beam_moves)))\n"
   ]
  },
  {
   "cell_type": "code",
   "execution_count": null,
   "metadata": {},
   "outputs": [],
   "source": [
    "# For each of the three search methods, what fraction of your generated problems were solvable?\n",
    "\n",
    "h1_solvable = round(sum(solvable_solutions[\"h1\"].values()) / num_max_nodes, 2)\n",
    "h2_solvable = round(sum(solvable_solutions[\"h2\"].values()) / num_max_nodes, 2)\n",
    "beam_solvable = round(sum(solvable_solutions[\"beam\"].values()) / num_max_nodes, 2)\n",
    "\n",
    "plt.figure()\n",
    "plt.bar([1, 2, 3], [h1_solvable, h2_solvable,\n",
    "        beam_solvable], color=['r', 'b', 'g'])\n",
    "plt.xticks([1, 2, 3], [\"A* (H1)\", \"A* (H2)\", \"Beam (k=5)\"])\n",
    "plt.xlabel(\"Search method\")\n",
    "plt.ylabel(\"Fraction of solvable puzzles\")\n",
    "plt.title(\"Fraction of solvable puzzles vs. search method\")\n",
    "\n",
    "print(\"Fraction of solvable puzzles for heuristic 1: \", h1_solvable)\n",
    "print(\"Fraction of solvable puzzles for heuristic 2: \", h2_solvable)\n",
    "print(\"Fraction of solvable puzzles for beam search: \", beam_solvable)"
   ]
  }
 ],
 "metadata": {
  "kernelspec": {
   "display_name": "base",
   "language": "python",
   "name": "python3"
  },
  "language_info": {
   "codemirror_mode": {
    "name": "ipython",
    "version": 3
   },
   "file_extension": ".py",
   "mimetype": "text/x-python",
   "name": "python",
   "nbconvert_exporter": "python",
   "pygments_lexer": "ipython3",
   "version": "3.8.15"
  },
  "orig_nbformat": 4,
  "vscode": {
   "interpreter": {
    "hash": "a3794571a37c8d8a7d5aa6f5f055c467a99438f55c9c9b2b68450be9ab15775e"
   }
  }
 },
 "nbformat": 4,
 "nbformat_minor": 2
}
